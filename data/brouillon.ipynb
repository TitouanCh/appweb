{
 "cells": [
  {
   "cell_type": "code",
   "execution_count": 34,
   "metadata": {},
   "outputs": [],
   "source": [
    "def is_prot(seq) : \n",
    "    for nucleotide in seq.strip():\n",
    "        if nucleotide not in ['A','B', 'R','N', 'D', 'C', 'Q', 'E','G','H', 'I','L', 'K', 'M', 'F', 'P','S', 'T', 'W', 'Y', 'V', 'U','X', 'O','Z' ] :\n",
    "            return False\n",
    "    return True\n"
   ]
  },
  {
   "cell_type": "code",
   "execution_count": 35,
   "metadata": {},
   "outputs": [],
   "source": [
    "file='Liste_Peptides/Escherichia_coli_o157_h7_str_edl933_pep.fa'\n",
    "with open(file) as f : \n",
    "    lines=f.readlines()\n",
    "    c=1\n",
    "    for line in lines : \n",
    "        if not(line.startswith('>')): \n",
    "            if not(is_prot(line)): \n",
    "                print(c)\n",
    "        c+=1"
   ]
  }
 ],
 "metadata": {
  "kernelspec": {
   "display_name": "Python 3",
   "language": "python",
   "name": "python3"
  },
  "language_info": {
   "codemirror_mode": {
    "name": "ipython",
    "version": 3
   },
   "file_extension": ".py",
   "mimetype": "text/x-python",
   "name": "python",
   "nbconvert_exporter": "python",
   "pygments_lexer": "ipython3",
   "version": "3.10.12"
  }
 },
 "nbformat": 4,
 "nbformat_minor": 2
}
